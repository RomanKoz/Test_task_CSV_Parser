{
 "cells": [
  {
   "cell_type": "code",
   "execution_count": 1,
   "id": "f78de5b4",
   "metadata": {},
   "outputs": [],
   "source": [
    "#import necessary libraries\n",
    "import pandas as pd\n",
    "import pymorphy2\n",
    "import re\n",
    "import nltk\n",
    "\n",
    "from nltk.tokenize import sent_tokenize, word_tokenize\n",
    "\n",
    "from yargy.pipelines import morph_pipeline\n",
    "#from ipymarkup import show_box_markup\n",
    "\n",
    "from yargy import rule, Parser, or_\n",
    "from yargy.predicates import eq, type, normalized, gram"
   ]
  },
  {
   "cell_type": "code",
   "execution_count": 2,
   "id": "92a683c2",
   "metadata": {},
   "outputs": [],
   "source": [
    "#downlaod dataframe from google disk\n",
    "url='https://drive.google.com/file/d/1boACz8ab9UytCpi0QhTUFRyS2oyH1MXS/view'\n",
    "url='https://drive.google.com/uc?id=' + url.split('/')[-2]\n",
    "test = pd.read_csv(url)"
   ]
  },
  {
   "cell_type": "code",
   "execution_count": 3,
   "id": "81682c5e",
   "metadata": {
    "scrolled": true
   },
   "outputs": [
    {
     "data": {
      "text/html": [
       "<div>\n",
       "<style scoped>\n",
       "    .dataframe tbody tr th:only-of-type {\n",
       "        vertical-align: middle;\n",
       "    }\n",
       "\n",
       "    .dataframe tbody tr th {\n",
       "        vertical-align: top;\n",
       "    }\n",
       "\n",
       "    .dataframe thead th {\n",
       "        text-align: right;\n",
       "    }\n",
       "</style>\n",
       "<table border=\"1\" class=\"dataframe\">\n",
       "  <thead>\n",
       "    <tr style=\"text-align: right;\">\n",
       "      <th></th>\n",
       "      <th>dlg_id</th>\n",
       "      <th>line_n</th>\n",
       "      <th>role</th>\n",
       "      <th>text</th>\n",
       "    </tr>\n",
       "  </thead>\n",
       "  <tbody>\n",
       "    <tr>\n",
       "      <th>0</th>\n",
       "      <td>0</td>\n",
       "      <td>0</td>\n",
       "      <td>client</td>\n",
       "      <td>Алло</td>\n",
       "    </tr>\n",
       "    <tr>\n",
       "      <th>1</th>\n",
       "      <td>0</td>\n",
       "      <td>1</td>\n",
       "      <td>manager</td>\n",
       "      <td>Алло здравствуйте</td>\n",
       "    </tr>\n",
       "    <tr>\n",
       "      <th>2</th>\n",
       "      <td>0</td>\n",
       "      <td>2</td>\n",
       "      <td>client</td>\n",
       "      <td>Добрый день</td>\n",
       "    </tr>\n",
       "    <tr>\n",
       "      <th>3</th>\n",
       "      <td>0</td>\n",
       "      <td>3</td>\n",
       "      <td>manager</td>\n",
       "      <td>Меня зовут ангелина компания диджитал бизнес з...</td>\n",
       "    </tr>\n",
       "    <tr>\n",
       "      <th>4</th>\n",
       "      <td>0</td>\n",
       "      <td>4</td>\n",
       "      <td>client</td>\n",
       "      <td>Ага</td>\n",
       "    </tr>\n",
       "    <tr>\n",
       "      <th>5</th>\n",
       "      <td>0</td>\n",
       "      <td>5</td>\n",
       "      <td>manager</td>\n",
       "      <td>Угу ну возможно вы рассмотрите и другие вариан...</td>\n",
       "    </tr>\n",
       "    <tr>\n",
       "      <th>6</th>\n",
       "      <td>0</td>\n",
       "      <td>6</td>\n",
       "      <td>client</td>\n",
       "      <td>Да мы работаем с компанией которая нам подлива...</td>\n",
       "    </tr>\n",
       "  </tbody>\n",
       "</table>\n",
       "</div>"
      ],
      "text/plain": [
       "   dlg_id  line_n     role                                               text\n",
       "0       0       0   client                                               Алло\n",
       "1       0       1  manager                                  Алло здравствуйте\n",
       "2       0       2   client                                        Добрый день\n",
       "3       0       3  manager  Меня зовут ангелина компания диджитал бизнес з...\n",
       "4       0       4   client                                                Ага\n",
       "5       0       5  manager  Угу ну возможно вы рассмотрите и другие вариан...\n",
       "6       0       6   client  Да мы работаем с компанией которая нам подлива..."
      ]
     },
     "execution_count": 3,
     "metadata": {},
     "output_type": "execute_result"
    }
   ],
   "source": [
    "#take a look at first seven rows of dataframe\n",
    "test.head(7)"
   ]
  },
  {
   "cell_type": "code",
   "execution_count": 4,
   "id": "87cd4830",
   "metadata": {},
   "outputs": [
    {
     "data": {
      "text/plain": [
       "4     35\n",
       "3     53\n",
       "1     55\n",
       "2     85\n",
       "0    109\n",
       "5    143\n",
       "Name: dlg_id, dtype: int64"
      ]
     },
     "execution_count": 4,
     "metadata": {},
     "output_type": "execute_result"
    }
   ],
   "source": [
    "#how many values in dlg_id column\n",
    "test.dlg_id.value_counts().sort_values()"
   ]
  },
  {
   "cell_type": "code",
   "execution_count": 5,
   "id": "010f2aab",
   "metadata": {},
   "outputs": [],
   "source": [
    "man_test = test[test['role']=='manager'] # to keep only managers speach"
   ]
  },
  {
   "cell_type": "code",
   "execution_count": 6,
   "id": "c6e6acdd",
   "metadata": {},
   "outputs": [
    {
     "name": "stdout",
     "output_type": "stream",
     "text": [
      "Total number of dialogs 6\n",
      "['Алло здравствуйте.', 'Меня зовут ангелина компания диджитал бизнес звоним вам по поводу продления лицензии а мы с серым у вас скоро срок заканчивается.', 'Угу ну возможно вы рассмотрите и другие варианты видите это хорошая практика сравнивать.', 'Угу а на что вы обращаете внимание при выборе.', 'Что для вас приоритет.', 'Ну у вас срок заканчивается поэтому мы набрали + ко всему.', 'А так нет не только поэтому просто я обратила внимание и вы пользуетесь виджетами мы там с вами сотрудничали.', 'А если вы 19 являетесь то лучше то идти бесплатно.', 'Ага хорошо.', 'Индивидуальным поэтому не все то есть сотрудничают с кем то сейчас да кому то например не с кем сейчас справляться кто то сравнивал.', 'Да мы услышали вас спасибо за рекомендации.', 'Вот понимаю да но дело в том что в основном да за месяц.', 'Необходимо обзванивать.', 'Хорошо я данную информацию тогда зафиксирую передам будем иметь ввиду.', 'И вам спасибо большое за обратную связь.', 'Всего хорошего до свидания']\n"
     ]
    }
   ],
   "source": [
    "#get the all texts from DataBase by dlg_id in one list for further actions\n",
    "texts = []\n",
    "nums = [0,1,2,3,4,5] #quantity of dialogs in dlg column\n",
    "for i in nums:\n",
    "    text = man_test[man_test['dlg_id']==i] \n",
    "    text = sent_tokenize('. '.join(text['text']))\n",
    "    texts.append(text)\n",
    "print('Total number of dialogs', len(texts))\n",
    "print(texts[0])"
   ]
  },
  {
   "cell_type": "code",
   "execution_count": 7,
   "id": "feeed3f0",
   "metadata": {
    "scrolled": true
   },
   "outputs": [
    {
     "name": "stdout",
     "output_type": "stream",
     "text": [
      "{0: ['Меня зовут ангелина компания диджитал бизнес звоним вам по поводу продления лицензии а мы с серым у вас скоро срок заканчивается.'], 1: ['Меня зовут ангелина компания диджитал бизнес звоню вам по поводу продления а мы сели обратила внимание что у вас срок заканчивается.'], 2: ['Меня зовут ангелина компания диджитал бизнес звоню вам по поводу продления лицензии а мастера мы с вами сотрудничали по видео там.'], 3: ['Добрый меня максим зовут компания китобизнес удобно говорить.'], 4: [], 5: []}\n",
      "{0: ['Ангелина'], 1: ['Ангелина'], 2: ['Ангелина'], 3: ['Максим'], 4: [], 5: []}\n"
     ]
    }
   ],
   "source": [
    "#extract intoduce phrases and names\n",
    "introduce = {}\n",
    "names = {}\n",
    "for count, text in enumerate(texts):\n",
    "    introduce_o = [sent for sent in text if 'зовут' in sent]\n",
    "    introduce[count] = introduce_o\n",
    "\n",
    "prob_thresh = 0.6 # probability score threshold\n",
    "\n",
    "morph = pymorphy2.MorphAnalyzer()\n",
    "\n",
    "for k in range(len(introduce)):\n",
    "    names[k] = []\n",
    "    for word in nltk.word_tokenize(''.join(introduce[k])):\n",
    "        for p in morph.parse(word):\n",
    "            if 'Name' in p.tag and p.score >= prob_thresh:\n",
    "                names[k].append(word.title())\n",
    "print(introduce)\n",
    "print(names)"
   ]
  },
  {
   "cell_type": "code",
   "execution_count": 8,
   "id": "e8fcf629",
   "metadata": {},
   "outputs": [
    {
     "name": "stdout",
     "output_type": "stream",
     "text": [
      "{0: ['Компания Диджитал Бизнес'], 1: ['Компания Диджитал Бизнес'], 2: ['Компания Диджитал Бизнес'], 3: ['Компания Китобизнес', 'Компания'], 4: [], 5: []}\n"
     ]
    }
   ],
   "source": [
    "#find company name\n",
    "KEY_WORD = rule(eq('компания'))\n",
    "\n",
    "NOUN = gram('NOUN')\n",
    "ADJF = gram('ADJF')\n",
    "NAME = gram('Name')\n",
    "\n",
    "MODIFIER = ADJF.repeatable()\n",
    "COMP_NAME=rule(\n",
    "    MODIFIER.optional(),\n",
    "    NOUN.optional(),\n",
    "    MODIFIER.optional()\n",
    ")\n",
    "\n",
    "COMPANY = rule(KEY_WORD, COMP_NAME) # strict rule to find only phrase with COMPANY name \n",
    "parser = Parser(COMPANY)\n",
    "\n",
    "company_title = []\n",
    "company_titles = {}\n",
    "\n",
    "for count, text in enumerate(texts):\n",
    "    company_titles[count] = []\n",
    "    for sent in text:\n",
    "        matches = list(parser.findall(sent))\n",
    "        #spans = [_.span for _ in matches]\n",
    "        #show_box_markup(sent, spans)\n",
    "        for match in matches:\n",
    "            company = [x.value for x in match.tokens]\n",
    "            company = ' '.join(company).title()\n",
    "            #company_title.append(company)\n",
    "            company_titles[count].append(company)\n",
    "print(company_titles)"
   ]
  },
  {
   "cell_type": "code",
   "execution_count": 9,
   "id": "29d0b4f5",
   "metadata": {
    "scrolled": false
   },
   "outputs": [
    {
     "name": "stdout",
     "output_type": "stream",
     "text": [
      "{0: ['Здравствуйте'], 1: ['Здравствуйте'], 2: ['Здравствуйте'], 3: ['Добрый День'], 4: [], 5: []}\n"
     ]
    }
   ],
   "source": [
    "#find greeting phrase\n",
    "\n",
    "KEY_WORD = morph_pipeline([\n",
    "    'привет',\n",
    "    'здравствуйте',\n",
    "    'добрый день',\n",
    "    'добрый вечер'\n",
    "])\n",
    "\n",
    "NOUN = gram('NOUN')\n",
    "ADJF = gram('ADJF')\n",
    "NAME = gram('Name')\n",
    "\n",
    "MODIFIER = ADJF.repeatable()\n",
    "GREET_NAME=rule(\n",
    "    MODIFIER.optional(),\n",
    "    NOUN.optional(),\n",
    "    MODIFIER.optional()\n",
    ")\n",
    "\n",
    "GREET = rule(KEY_WORD, GREET_NAME)\n",
    "parser = Parser(GREET)\n",
    "\n",
    "greetings = {}\n",
    "\n",
    "for count, text in enumerate(texts):\n",
    "    greetings[count] = []\n",
    "    for sent in text:\n",
    "        matches = list(parser.findall(sent))\n",
    "        #spans = [_.span for _ in matches]\n",
    "        #show_box_markup(sent, spans)\n",
    "        for match in matches:\n",
    "            greetings_o = [x.value for x in match.tokens]\n",
    "            greetings_o = ' '.join(greetings_o).title()\n",
    "            greetings[count].append(greetings_o)\n",
    "print(greetings)"
   ]
  },
  {
   "cell_type": "code",
   "execution_count": 10,
   "id": "2a3d608c",
   "metadata": {},
   "outputs": [
    {
     "name": "stdout",
     "output_type": "stream",
     "text": [
      "{0: ['До Свидания'], 1: ['До Свидания'], 2: [], 3: ['Всего Доброго'], 4: ['До Свидания'], 5: ['До Свидания Хорошего Вечера']}\n"
     ]
    }
   ],
   "source": [
    "#find goodbye phrase\n",
    "\n",
    "KEY_WORD = morph_pipeline([\n",
    "    'до свидания',\n",
    "    'пока',\n",
    "    'всего доброго', \n",
    "    'хорошего вечера'\n",
    "])\n",
    "\n",
    "NOUN = gram('NOUN')\n",
    "ADJF = gram('ADJF')\n",
    "NAME = gram('Name')\n",
    "\n",
    "MODIFIER = ADJF.repeatable()\n",
    "BYE_NAME=rule(\n",
    "    MODIFIER.optional(),\n",
    "    NOUN.optional(),\n",
    "    MODIFIER.optional(), \n",
    ")\n",
    "\n",
    "BYE = rule(KEY_WORD, BYE_NAME) \n",
    "parser = Parser(BYE)\n",
    "\n",
    "bye_list = {}\n",
    "\n",
    "for count, text in enumerate(texts):  \n",
    "    for sent in text:\n",
    "        bye_list[count] = []\n",
    "        matches = list(parser.findall(sent))\n",
    "        #spans = [_.span for _ in matches]\n",
    "        #show_box_markup(sent, spans)\n",
    "        for match in matches:\n",
    "            goodbyes = [x.value for x in match.tokens]\n",
    "            goodbyes = ' '.join(goodbyes).title()\n",
    "            bye_list[count].append(goodbyes)\n",
    "print(bye_list)"
   ]
  },
  {
   "cell_type": "code",
   "execution_count": 11,
   "id": "665408b9",
   "metadata": {},
   "outputs": [],
   "source": [
    "#put all information from dicts in final dataframe \n",
    "final = pd.DataFrame({'Greeting': [''.join(k) for k in greetings.values()], #1st column\n",
    "                      'Introducing': [''.join(k) for k in introduce.values()], #2nd column\n",
    "                     'Name': [''.join(k) for k in names.values()], #3rd column\n",
    "                     'Company Name': [''.join(k) for k in company_titles.values()], #4th column\n",
    "                     'Goodbye': [''.join(k) for k in bye_list.values()]}) #5th column"
   ]
  },
  {
   "cell_type": "code",
   "execution_count": 12,
   "id": "f549d482",
   "metadata": {},
   "outputs": [],
   "source": [
    "# create a function fill_values() to put values in column Insight based on values in other columns\n",
    "def fill_values(row):\n",
    "    if row['Greeting'] == '' :\n",
    "          return 'False'\n",
    "    if row['Goodbye'] == '' :\n",
    "          return 'False'\n",
    "    return 'True'"
   ]
  },
  {
   "cell_type": "code",
   "execution_count": 13,
   "id": "23dfc11c",
   "metadata": {},
   "outputs": [],
   "source": [
    "final['Insight'] = final.apply (lambda row: fill_values(row), axis=1)"
   ]
  },
  {
   "cell_type": "code",
   "execution_count": 14,
   "id": "f9e18289",
   "metadata": {},
   "outputs": [
    {
     "data": {
      "text/html": [
       "<div>\n",
       "<style scoped>\n",
       "    .dataframe tbody tr th:only-of-type {\n",
       "        vertical-align: middle;\n",
       "    }\n",
       "\n",
       "    .dataframe tbody tr th {\n",
       "        vertical-align: top;\n",
       "    }\n",
       "\n",
       "    .dataframe thead th {\n",
       "        text-align: right;\n",
       "    }\n",
       "</style>\n",
       "<table border=\"1\" class=\"dataframe\">\n",
       "  <thead>\n",
       "    <tr style=\"text-align: right;\">\n",
       "      <th></th>\n",
       "      <th>Greeting</th>\n",
       "      <th>Introducing</th>\n",
       "      <th>Name</th>\n",
       "      <th>Company Name</th>\n",
       "      <th>Goodbye</th>\n",
       "      <th>Insight</th>\n",
       "    </tr>\n",
       "  </thead>\n",
       "  <tbody>\n",
       "    <tr>\n",
       "      <th>0</th>\n",
       "      <td>Здравствуйте</td>\n",
       "      <td>Меня зовут ангелина компания диджитал бизнес з...</td>\n",
       "      <td>Ангелина</td>\n",
       "      <td>Компания Диджитал Бизнес</td>\n",
       "      <td>До Свидания</td>\n",
       "      <td>True</td>\n",
       "    </tr>\n",
       "    <tr>\n",
       "      <th>1</th>\n",
       "      <td>Здравствуйте</td>\n",
       "      <td>Меня зовут ангелина компания диджитал бизнес з...</td>\n",
       "      <td>Ангелина</td>\n",
       "      <td>Компания Диджитал Бизнес</td>\n",
       "      <td>До Свидания</td>\n",
       "      <td>True</td>\n",
       "    </tr>\n",
       "    <tr>\n",
       "      <th>2</th>\n",
       "      <td>Здравствуйте</td>\n",
       "      <td>Меня зовут ангелина компания диджитал бизнес з...</td>\n",
       "      <td>Ангелина</td>\n",
       "      <td>Компания Диджитал Бизнес</td>\n",
       "      <td></td>\n",
       "      <td>False</td>\n",
       "    </tr>\n",
       "    <tr>\n",
       "      <th>3</th>\n",
       "      <td>Добрый День</td>\n",
       "      <td>Добрый меня максим зовут компания китобизнес у...</td>\n",
       "      <td>Максим</td>\n",
       "      <td>Компания КитобизнесКомпания</td>\n",
       "      <td>Всего Доброго</td>\n",
       "      <td>True</td>\n",
       "    </tr>\n",
       "    <tr>\n",
       "      <th>4</th>\n",
       "      <td></td>\n",
       "      <td></td>\n",
       "      <td></td>\n",
       "      <td></td>\n",
       "      <td>До Свидания</td>\n",
       "      <td>False</td>\n",
       "    </tr>\n",
       "    <tr>\n",
       "      <th>5</th>\n",
       "      <td></td>\n",
       "      <td></td>\n",
       "      <td></td>\n",
       "      <td></td>\n",
       "      <td>До Свидания Хорошего Вечера</td>\n",
       "      <td>False</td>\n",
       "    </tr>\n",
       "  </tbody>\n",
       "</table>\n",
       "</div>"
      ],
      "text/plain": [
       "       Greeting                                        Introducing      Name  \\\n",
       "0  Здравствуйте  Меня зовут ангелина компания диджитал бизнес з...  Ангелина   \n",
       "1  Здравствуйте  Меня зовут ангелина компания диджитал бизнес з...  Ангелина   \n",
       "2  Здравствуйте  Меня зовут ангелина компания диджитал бизнес з...  Ангелина   \n",
       "3   Добрый День  Добрый меня максим зовут компания китобизнес у...    Максим   \n",
       "4                                                                              \n",
       "5                                                                              \n",
       "\n",
       "                  Company Name                      Goodbye Insight  \n",
       "0     Компания Диджитал Бизнес                  До Свидания    True  \n",
       "1     Компания Диджитал Бизнес                  До Свидания    True  \n",
       "2     Компания Диджитал Бизнес                                False  \n",
       "3  Компания КитобизнесКомпания                Всего Доброго    True  \n",
       "4                                               До Свидания   False  \n",
       "5                               До Свидания Хорошего Вечера   False  "
      ]
     },
     "execution_count": 14,
     "metadata": {},
     "output_type": "execute_result"
    }
   ],
   "source": [
    "#parsing results\n",
    "final"
   ]
  },
  {
   "cell_type": "code",
   "execution_count": null,
   "id": "3dab0b71",
   "metadata": {},
   "outputs": [],
   "source": []
  }
 ],
 "metadata": {
  "kernelspec": {
   "display_name": "Python 3 (ipykernel)",
   "language": "python",
   "name": "python3"
  },
  "language_info": {
   "codemirror_mode": {
    "name": "ipython",
    "version": 3
   },
   "file_extension": ".py",
   "mimetype": "text/x-python",
   "name": "python",
   "nbconvert_exporter": "python",
   "pygments_lexer": "ipython3",
   "version": "3.9.12"
  }
 },
 "nbformat": 4,
 "nbformat_minor": 5
}
